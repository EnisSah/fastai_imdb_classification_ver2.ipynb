{
  "nbformat": 4,
  "nbformat_minor": 0,
  "metadata": {
    "kernelspec": {
      "display_name": "Python 3",
      "language": "python",
      "name": "python3"
    },
    "language_info": {
      "codemirror_mode": {
        "name": "ipython",
        "version": 3
      },
      "file_extension": ".py",
      "mimetype": "text/x-python",
      "name": "python",
      "nbconvert_exporter": "python",
      "pygments_lexer": "ipython3",
      "version": "3.6.5"
    },
    "colab": {
      "name": "11_fastai_imdb_classification_ver2.ipynb",
      "provenance": [],
      "collapsed_sections": []
    },
    "accelerator": "GPU"
  },
  "cells": [
    {
      "cell_type": "code",
      "metadata": {
        "hide_input": true,
        "id": "gQUFkOEt5Bct",
        "colab_type": "code",
        "colab": {}
      },
      "source": [
        "from fastai.basics import *\n",
        "from fastai.gen_doc.nbdoc import *"
      ],
      "execution_count": 1,
      "outputs": []
    },
    {
      "cell_type": "code",
      "metadata": {
        "id": "Wy13E4Z95BdV",
        "colab_type": "code",
        "colab": {
          "base_uri": "https://localhost:8080/",
          "height": 35
        },
        "outputId": "c20a9e5b-42e3-4331-f877-77f6a6de7f2f"
      },
      "source": [
        "import fastai\n",
        "from fastai.version import __version__\n",
        "print(__version__)"
      ],
      "execution_count": 2,
      "outputs": [
        {
          "output_type": "stream",
          "text": [
            "1.0.61\n"
          ],
          "name": "stdout"
        }
      ]
    },
    {
      "cell_type": "markdown",
      "metadata": {
        "id": "MkD_JoEC5Bdc",
        "colab_type": "text"
      },
      "source": [
        "## Text"
      ]
    },
    {
      "cell_type": "markdown",
      "metadata": {
        "id": "4nWhPZ2B5Bdd",
        "colab_type": "text"
      },
      "source": [
        "Next application is text, so let's start by importing everything we'll need."
      ]
    },
    {
      "cell_type": "code",
      "metadata": {
        "id": "gVlon61S5Bde",
        "colab_type": "code",
        "colab": {}
      },
      "source": [
        "from fastai.text import *"
      ],
      "execution_count": 3,
      "outputs": []
    },
    {
      "cell_type": "markdown",
      "metadata": {
        "id": "tLgrItHW5Bdh",
        "colab_type": "text"
      },
      "source": [
        "### Language modelling"
      ]
    },
    {
      "cell_type": "markdown",
      "metadata": {
        "id": "EZ4fzVpX5Bdh",
        "colab_type": "text"
      },
      "source": [
        "First we'll fine-tune a pretrained language model on our subset of imdb."
      ]
    },
    {
      "cell_type": "code",
      "metadata": {
        "id": "wEOdZOrD5Bdi",
        "colab_type": "code",
        "colab": {
          "base_uri": "https://localhost:8080/",
          "height": 35
        },
        "outputId": "4caadbec-de90-4810-dd52-fe02c6747686"
      },
      "source": [
        "imdb = untar_data(URLs.IMDB_SAMPLE)"
      ],
      "execution_count": 4,
      "outputs": [
        {
          "output_type": "stream",
          "text": [
            "Downloading http://files.fast.ai/data/examples/imdb_sample.tgz\n"
          ],
          "name": "stdout"
        },
        {
          "output_type": "display_data",
          "data": {
            "text/html": [
              ""
            ],
            "text/plain": [
              "<IPython.core.display.HTML object>"
            ]
          },
          "metadata": {
            "tags": []
          }
        }
      ]
    },
    {
      "cell_type": "code",
      "metadata": {
        "id": "H8c67OHM5Bdm",
        "colab_type": "code",
        "colab": {
          "base_uri": "https://localhost:8080/",
          "height": 17
        },
        "outputId": "8f93d804-5021-4bbb-9aee-c6cbb8329833"
      },
      "source": [
        "data_lm = (TextList.from_csv(imdb, 'texts.csv', cols='text')\n",
        "                   .split_by_rand_pct()\n",
        "                   .label_for_lm()  # Language model does not need labels\n",
        "                   .databunch())\n",
        "data_lm.save()"
      ],
      "execution_count": 5,
      "outputs": [
        {
          "output_type": "display_data",
          "data": {
            "text/html": [
              ""
            ],
            "text/plain": [
              "<IPython.core.display.HTML object>"
            ]
          },
          "metadata": {
            "tags": []
          }
        },
        {
          "output_type": "display_data",
          "data": {
            "text/html": [
              ""
            ],
            "text/plain": [
              "<IPython.core.display.HTML object>"
            ]
          },
          "metadata": {
            "tags": []
          }
        }
      ]
    },
    {
      "cell_type": "markdown",
      "metadata": {
        "id": "3ZdOqFBc5Bdq",
        "colab_type": "text"
      },
      "source": [
        "`data.show_batch()` will work here as well. For a language model, it shows us the beginning of each sequence of text along the batch dimension (the target being to guess the next word)."
      ]
    },
    {
      "cell_type": "code",
      "metadata": {
        "id": "rNt14Nvd5Bdr",
        "colab_type": "code",
        "colab": {
          "base_uri": "https://localhost:8080/",
          "height": 375
        },
        "outputId": "9b37326c-6d57-4ff2-d712-a9b7ffceb618"
      },
      "source": [
        "data_lm.show_batch()"
      ],
      "execution_count": 6,
      "outputs": [
        {
          "output_type": "stream",
          "text": [
            "/usr/local/lib/python3.6/dist-packages/fastai/text/data.py:339: UserWarning: This overload of nonzero is deprecated:\n",
            "\tnonzero()\n",
            "Consider using one of the following signatures instead:\n",
            "\tnonzero(*, bool as_tuple) (Triggered internally at  /pytorch/torch/csrc/utils/python_arg_parser.cpp:766.)\n",
            "  idx_min = (t != self.pad_idx).nonzero().min()\n"
          ],
          "name": "stderr"
        },
        {
          "output_type": "display_data",
          "data": {
            "text/html": [
              "<table border=\"1\" class=\"dataframe\">\n",
              "  <thead>\n",
              "    <tr style=\"text-align: right;\">\n",
              "      <th>idx</th>\n",
              "      <th>text</th>\n",
              "    </tr>\n",
              "  </thead>\n",
              "  <tbody>\n",
              "    <tr>\n",
              "      <td>0</td>\n",
              "      <td>! ! ! xxmaj finally this was directed by the guy who did xxmaj big xxmaj xxunk ? xxmaj must be a replay of xxmaj jonestown - hollywood style . xxmaj xxunk ! xxbos xxmaj this is a extremely well - made film . xxmaj the acting , script and camera - work are all first - rate . xxmaj the music is good , too , though it is</td>\n",
              "    </tr>\n",
              "    <tr>\n",
              "      <td>1</td>\n",
              "      <td>nice , creepy xxmaj spanish castle and good xxunk , i found it to be fairly boring and predictable , with no excitement or mystery , whatsoever . \\n \\n  3 out of 10 . xxbos i have always liked xxmaj spike xxmaj lee 's movies , but this one was a total waste of 2 1 / 2 hours . i expected more about xxmaj son of xxmaj</td>\n",
              "    </tr>\n",
              "    <tr>\n",
              "      <td>2</td>\n",
              "      <td>and / or a xxunk logic , all his attempts go awry , much to the delight of the viewer . \\n \\n  xxmaj xxunk xxmaj goldberg plays xxmaj rose xxmaj xxunk , the show 's chief writer and xxmaj celeste 's xxunk - ego and xxunk while xxmaj xxunk xxmaj fisher has a xxunk part as the hard - as - xxunk producer of the show . \\n</td>\n",
              "    </tr>\n",
              "    <tr>\n",
              "      <td>3</td>\n",
              "      <td>for others . xxmaj xxunk . xxmaj god , bless \" xxmaj xxunk it like xxmaj xxunk \" i believe it is a true gem . xxbos xxmaj the fact that most of the budget for this presumably went on the heavy - duty cast list should n't have xxunk if it had been staged with flair and imagination and some sympathy for the original 's satirical intent . xxmaj</td>\n",
              "    </tr>\n",
              "    <tr>\n",
              "      <td>4</td>\n",
              "      <td>is that bad ? xxmaj not really . xxmaj everyone needs a feeling of belonging . xxmaj but like the school paper of one of the schools i xxunk once wrote about that , \" we should all try to hang around with students of other xxunk and try to know them . \" xxmaj otherwise you 're creating your own xxunk . \\n \\n  xxmaj racism certainly xxunk</td>\n",
              "    </tr>\n",
              "  </tbody>\n",
              "</table>"
            ],
            "text/plain": [
              "<IPython.core.display.HTML object>"
            ]
          },
          "metadata": {
            "tags": []
          }
        }
      ]
    },
    {
      "cell_type": "code",
      "metadata": {
        "id": "g0my1gZE5Bdv",
        "colab_type": "code",
        "colab": {}
      },
      "source": [
        "# Special tokens\n",
        "# xxbos: Begining of a sentence\n",
        "# xxfld: Represent separate parts of a document like title, summary etc., each one will get a separate field and so they will get numbered (e.g. xxfld 1, xxfld 2).\n",
        "# xxup: If there's something in all caps, it gets lower cased and a token called xxup will get added to it. Words that are fully capitalized, such as “I AM SHOUTING”, are tokenized as “xxup i xxup am xxup shouting“\n",
        "# xxunk: token used instead of an uncommon word.\n",
        "# xxmaj: token indicates that there is capitalization of the word. “The” will be tokenized as “xxmaj the“.\n",
        "# xxrep: token indicates repeated word, if you have 29 ! in a row, (i.e. xxrep 29 !)."
      ],
      "execution_count": 7,
      "outputs": []
    },
    {
      "cell_type": "code",
      "metadata": {
        "id": "IL0wD2C45Bdz",
        "colab_type": "code",
        "colab": {
          "base_uri": "https://localhost:8080/",
          "height": 364
        },
        "outputId": "3a2a0aa9-210f-41ae-9467-3cc950207ead"
      },
      "source": [
        "data_lm.vocab.itos[:20]"
      ],
      "execution_count": 8,
      "outputs": [
        {
          "output_type": "execute_result",
          "data": {
            "text/plain": [
              "['xxunk',\n",
              " 'xxpad',\n",
              " 'xxbos',\n",
              " 'xxeos',\n",
              " 'xxfld',\n",
              " 'xxmaj',\n",
              " 'xxup',\n",
              " 'xxrep',\n",
              " 'xxwrep',\n",
              " 'the',\n",
              " '.',\n",
              " ',',\n",
              " 'and',\n",
              " 'a',\n",
              " 'of',\n",
              " 'to',\n",
              " 'is',\n",
              " 'it',\n",
              " 'in',\n",
              " 'i']"
            ]
          },
          "metadata": {
            "tags": []
          },
          "execution_count": 8
        }
      ]
    },
    {
      "cell_type": "markdown",
      "metadata": {
        "id": "2cXqz2Di5Bd2",
        "colab_type": "text"
      },
      "source": [
        "#### Numericalization\n",
        "Finally it is easier for machine to deal with the numbers so replace the tokens with the location of the token in the vocab:"
      ]
    },
    {
      "cell_type": "code",
      "metadata": {
        "id": "dx988QLO5Bd3",
        "colab_type": "code",
        "colab": {
          "base_uri": "https://localhost:8080/",
          "height": 35
        },
        "outputId": "62727929-bd02-4abc-f7c0-b3814cbadc6b"
      },
      "source": [
        "data_lm.train_ds[0][0].data[:10]"
      ],
      "execution_count": 9,
      "outputs": [
        {
          "output_type": "execute_result",
          "data": {
            "text/plain": [
              "array([  2,   5,   0,  26,   0,  26, 909,  53,   5,   0])"
            ]
          },
          "metadata": {
            "tags": []
          },
          "execution_count": 9
        }
      ]
    },
    {
      "cell_type": "markdown",
      "metadata": {
        "id": "yzec63Tl5Bd6",
        "colab_type": "text"
      },
      "source": [
        "The default vocab size is set to 60,000 words and min count for a word to be added to vocab is 2, to avoid getting the weight matrix huge."
      ]
    },
    {
      "cell_type": "markdown",
      "metadata": {
        "id": "HNTCb9P85Bd6",
        "colab_type": "text"
      },
      "source": [
        "Now let's define a language model learner. drop_mult - a hyper-parameter ,used for regularization, sets the amount of dropout. If the model is over-fitting increase it, if under-fitting, you can decrease the number."
      ]
    },
    {
      "cell_type": "code",
      "metadata": {
        "id": "jKydgcl95Bd7",
        "colab_type": "code",
        "colab": {
          "base_uri": "https://localhost:8080/",
          "height": 189
        },
        "outputId": "1f39c9ed-cad7-4af5-8014-ce7d31984515"
      },
      "source": [
        "learn = language_model_learner(data_lm, AWD_LSTM)\n",
        "learn.fit_one_cycle(4, 1e-2)\n",
        "learn.save('mini_train_lm')\n",
        "learn.save_encoder('mini_train_encoder')"
      ],
      "execution_count": 10,
      "outputs": [
        {
          "output_type": "stream",
          "text": [
            "Downloading https://s3.amazonaws.com/fast-ai-modelzoo/wt103-fwd.tgz\n"
          ],
          "name": "stdout"
        },
        {
          "output_type": "display_data",
          "data": {
            "text/html": [
              ""
            ],
            "text/plain": [
              "<IPython.core.display.HTML object>"
            ]
          },
          "metadata": {
            "tags": []
          }
        },
        {
          "output_type": "display_data",
          "data": {
            "text/html": [
              "<table border=\"1\" class=\"dataframe\">\n",
              "  <thead>\n",
              "    <tr style=\"text-align: left;\">\n",
              "      <th>epoch</th>\n",
              "      <th>train_loss</th>\n",
              "      <th>valid_loss</th>\n",
              "      <th>accuracy</th>\n",
              "      <th>time</th>\n",
              "    </tr>\n",
              "  </thead>\n",
              "  <tbody>\n",
              "    <tr>\n",
              "      <td>0</td>\n",
              "      <td>4.390880</td>\n",
              "      <td>3.751441</td>\n",
              "      <td>0.295061</td>\n",
              "      <td>00:19</td>\n",
              "    </tr>\n",
              "    <tr>\n",
              "      <td>1</td>\n",
              "      <td>4.139402</td>\n",
              "      <td>3.702072</td>\n",
              "      <td>0.296819</td>\n",
              "      <td>00:19</td>\n",
              "    </tr>\n",
              "    <tr>\n",
              "      <td>2</td>\n",
              "      <td>3.924169</td>\n",
              "      <td>3.692961</td>\n",
              "      <td>0.297307</td>\n",
              "      <td>00:20</td>\n",
              "    </tr>\n",
              "    <tr>\n",
              "      <td>3</td>\n",
              "      <td>3.773365</td>\n",
              "      <td>3.689845</td>\n",
              "      <td>0.297838</td>\n",
              "      <td>00:20</td>\n",
              "    </tr>\n",
              "  </tbody>\n",
              "</table>"
            ],
            "text/plain": [
              "<IPython.core.display.HTML object>"
            ]
          },
          "metadata": {
            "tags": []
          }
        }
      ]
    },
    {
      "cell_type": "markdown",
      "metadata": {
        "id": "EesR96G55Bd-",
        "colab_type": "text"
      },
      "source": [
        "Then we can have a look at the results. It shows a certain amount of words (default 20), then the next 20 target words and the ones that were predicted."
      ]
    },
    {
      "cell_type": "code",
      "metadata": {
        "id": "w5ullqjw5Bd_",
        "colab_type": "code",
        "colab": {
          "base_uri": "https://localhost:8080/",
          "height": 289
        },
        "outputId": "e43d2d1c-9a85-4dfb-9d20-40b5903e592d"
      },
      "source": [
        "learn.show_results()"
      ],
      "execution_count": 11,
      "outputs": [
        {
          "output_type": "display_data",
          "data": {
            "text/html": [
              "<table border=\"1\" class=\"dataframe\">\n",
              "  <thead>\n",
              "    <tr style=\"text-align: right;\">\n",
              "      <th>text</th>\n",
              "      <th>target</th>\n",
              "      <th>pred</th>\n",
              "    </tr>\n",
              "  </thead>\n",
              "  <tbody>\n",
              "    <tr>\n",
              "      <td>xxbos xxmaj as a matter of fact , this is one of those movies you would have to give xxunk</td>\n",
              "      <td>to . xxmaj the fact is ; as already stated , it 's a great deal of fun . xxmaj</td>\n",
              "      <td>to . xxmaj the movie that that the the , , the 's a xxunk film . xxunk . xxmaj</td>\n",
              "    </tr>\n",
              "    <tr>\n",
              "      <td>. xxmaj the main point of conflict between the two leads does n't play out in a realistic manner at</td>\n",
              "      <td>all . xxmaj there are a few scenes where they disagree because of it , but no xxunk of any</td>\n",
              "      <td>all . xxmaj the are no few scenes that the are with they the . but they one . the</td>\n",
              "    </tr>\n",
              "    <tr>\n",
              "      <td>xxmaj xxunk 's loud , screaming happy kids and xxmaj rose and xxmaj xxunk enjoying every minute of it .</td>\n",
              "      <td>xxbos xxmaj everyday we can watch a great number of film , soap ... on tv . xxmaj sometimes a</td>\n",
              "      <td>xxmaj xxmaj the , are see this movie movie of movies - and opera and the , xxmaj the the</td>\n",
              "    </tr>\n",
              "    <tr>\n",
              "      <td>'ve liked \" xxmaj la xxmaj xxunk xxmaj xxunk ... \" check out also \" xxmaj la xxmaj xxunk che</td>\n",
              "      <td>xxmaj evelyn xxunk xxunk xxmaj xxunk \" . xxbos xxup dvd has become the xxunk of the old late night</td>\n",
              "      <td>\" xxunk \" \" \" xxunk \" ) ) xxmaj xxunk xxmaj a a basis of the xxmaj xxmaj -</td>\n",
              "    </tr>\n",
              "    <tr>\n",
              "      <td>other xxunk movie xxmaj xxunk xxmaj plan . \\n \\n  xxmaj here is my xxmaj xxunk xxmaj plan comment</td>\n",
              "      <td>: xxunk : / / xxunk / title / xxunk / xxunk \\n \\n  i recommend . xxmaj not</td>\n",
              "      <td>xxmaj xxmaj xxmaj xxmaj / xxunk / xxunk / xxunk / xxmaj 'm this xxmaj the only much . xxunk</td>\n",
              "    </tr>\n",
              "  </tbody>\n",
              "</table>"
            ],
            "text/plain": [
              "<IPython.core.display.HTML object>"
            ]
          },
          "metadata": {
            "tags": []
          }
        }
      ]
    },
    {
      "cell_type": "code",
      "metadata": {
        "id": "-bsqrFrt5BeD",
        "colab_type": "code",
        "colab": {
          "base_uri": "https://localhost:8080/",
          "height": 87
        },
        "outputId": "b49b4054-786c-4626-d944-adf2c601ba0a"
      },
      "source": [
        "learn.predict('When I saw this movie the second time', 100)\n"
      ],
      "execution_count": 12,
      "outputs": [
        {
          "output_type": "execute_result",
          "data": {
            "application/vnd.google.colaboratory.intrinsic+json": {
              "type": "string"
            },
            "text/plain": [
              "'When I saw this movie the second time , only i aware 6 of the anyone wanting them . i \\'d get such a comment from Fred Astaire , the Ann Washington : i was not expecting a review by Fred Astaire or causes sadly to watch like wanting to make them feel like people . \\n \\n  Fred Astaire was originally one of the worst actors to ever fffc . Dressed to Kill was a 17 year in criminal code . \\n \\n  Notable detective story survivors used in the plot included \" Photographer Harris \"'"
            ]
          },
          "metadata": {
            "tags": []
          },
          "execution_count": 12
        }
      ]
    },
    {
      "cell_type": "code",
      "metadata": {
        "id": "UX2THx9V5BeG",
        "colab_type": "code",
        "colab": {
          "base_uri": "https://localhost:8080/",
          "height": 87
        },
        "outputId": "c21f714d-175d-48a0-8192-cf47946856cd"
      },
      "source": [
        "learn.predict('As I was going up the stair I met a man who wasn\\'t there.', 100)"
      ],
      "execution_count": 13,
      "outputs": [
        {
          "output_type": "execute_result",
          "data": {
            "application/vnd.google.colaboratory.intrinsic+json": {
              "type": "string"
            },
            "text/plain": [
              "\"As I was going up the stair I met a man who wasn't there. He was a strong reporter . He was very intelligence and thoroughly watchable . The police were telling me and who of course was always a teacher . He ... my guy , he somewhere got my money ! He was more useful as a RELIEF man . Sell of this girl at the am we should be asking anymore . He would pass his basic class for his first grade . It wo not matter if he gets there . At his best , he was the opposite of\""
            ]
          },
          "metadata": {
            "tags": []
          },
          "execution_count": 13
        }
      ]
    },
    {
      "cell_type": "markdown",
      "metadata": {
        "id": "lUZmWMtE5BeJ",
        "colab_type": "text"
      },
      "source": [
        "Learning rate hyper-parameter is one of the most important parameters to train a model. Fast.ai provides a convenient utility (learn.lr_find) to search through a range of learning rates to find the optimum one for our dataset. Learning rate finder will increase the learning rate after each mini-batch. Eventually, the learning rate is too high that loss will get worse. Now look at the plot of learning rate against loss and determine the lowest point (around 1e-1 for the plot below) and go back by one magnitude and choose that as a learning rate (something around 1e-2)."
      ]
    },
    {
      "cell_type": "markdown",
      "metadata": {
        "id": "s1Wf0rQG5BeK",
        "colab_type": "text"
      },
      "source": [
        "### Classification"
      ]
    },
    {
      "cell_type": "markdown",
      "metadata": {
        "id": "F3_u3_wx5BeL",
        "colab_type": "text"
      },
      "source": [
        "Now let's see a classification example. We have to use the same vocabulary as for the language model if we want to be able to use the encoder we saved."
      ]
    },
    {
      "cell_type": "code",
      "metadata": {
        "id": "mhggoqch5BeM",
        "colab_type": "code",
        "colab": {
          "base_uri": "https://localhost:8080/",
          "height": 17
        },
        "outputId": "d9ff1ce5-78bd-4bc9-a0f9-f9534f5db6e5"
      },
      "source": [
        "data_clas = (TextList.from_csv(imdb, 'texts.csv', cols='text', vocab=data_lm.vocab)\n",
        "                   .split_from_df(col='is_valid')\n",
        "                   .label_from_df(cols='label')\n",
        "                   .databunch(bs=42))"
      ],
      "execution_count": 14,
      "outputs": [
        {
          "output_type": "display_data",
          "data": {
            "text/html": [
              ""
            ],
            "text/plain": [
              "<IPython.core.display.HTML object>"
            ]
          },
          "metadata": {
            "tags": []
          }
        },
        {
          "output_type": "display_data",
          "data": {
            "text/html": [
              ""
            ],
            "text/plain": [
              "<IPython.core.display.HTML object>"
            ]
          },
          "metadata": {
            "tags": []
          }
        }
      ]
    },
    {
      "cell_type": "markdown",
      "metadata": {
        "id": "oaJBoRKi5BeP",
        "colab_type": "text"
      },
      "source": [
        "Here show_batch shows the beginning of each review with its target."
      ]
    },
    {
      "cell_type": "code",
      "metadata": {
        "id": "Gdj9cs2-5BeP",
        "colab_type": "code",
        "colab": {
          "base_uri": "https://localhost:8080/",
          "height": 306
        },
        "outputId": "b67f6aa0-3ef2-4c01-bf08-62b5f1958608"
      },
      "source": [
        "data_clas.show_batch()"
      ],
      "execution_count": 15,
      "outputs": [
        {
          "output_type": "display_data",
          "data": {
            "text/html": [
              "<table border=\"1\" class=\"dataframe\">\n",
              "  <thead>\n",
              "    <tr style=\"text-align: right;\">\n",
              "      <th>text</th>\n",
              "      <th>target</th>\n",
              "    </tr>\n",
              "  </thead>\n",
              "  <tbody>\n",
              "    <tr>\n",
              "      <td>xxbos xxmaj xxunk xxmaj victor xxmaj xxunk : a xxmaj review \\n \\n  xxmaj you know , xxmaj xxunk xxmaj victor xxmaj xxunk is like sticking your hands into a big , xxunk xxunk of xxunk . xxmaj it 's warm and xxunk , but you 're not sure if it feels right . xxmaj try as i might , no matter how warm and xxunk xxmaj xxunk xxmaj</td>\n",
              "      <td>negative</td>\n",
              "    </tr>\n",
              "    <tr>\n",
              "      <td>xxbos xxup the xxup shop xxup around xxup the xxup corner is one of the xxunk and most feel - good romantic comedies ever made . xxmaj there 's just no getting around that , and it 's hard to actually put one 's feeling for this film into words . xxmaj it 's not one of those films that tries too hard , nor does it come up with</td>\n",
              "      <td>positive</td>\n",
              "    </tr>\n",
              "    <tr>\n",
              "      <td>xxbos xxmaj now that xxmaj che(2008 ) has finished its relatively short xxmaj australian cinema run ( extremely limited xxunk screen in xxmaj xxunk , after xxunk ) , i can xxunk join both xxunk of \" xxmaj at xxmaj the xxmaj movies \" in taking xxmaj steven xxmaj soderbergh to task . \\n \\n  xxmaj it 's usually satisfying to watch a film director change his style /</td>\n",
              "      <td>negative</td>\n",
              "    </tr>\n",
              "    <tr>\n",
              "      <td>xxbos xxmaj this film sat on my xxmaj xxunk for weeks before i watched it . i xxunk a self - indulgent xxunk flick about relationships gone bad . i was wrong ; this was an xxunk xxunk into the xxunk - up xxunk of xxmaj new xxmaj xxunk . \\n \\n  xxmaj the format is the same as xxmaj max xxmaj xxunk ' \" xxmaj la xxmaj xxunk</td>\n",
              "      <td>positive</td>\n",
              "    </tr>\n",
              "    <tr>\n",
              "      <td>xxbos xxmaj many neglect that this is n't just a classic due to the fact that it 's the first xxup 3d game , or even the first xxunk - up . xxmaj it 's also one of the first xxunk games , one of the xxunk definitely the first ) truly claustrophobic games , and just a pretty well - xxunk gaming experience in general . xxmaj with graphics</td>\n",
              "      <td>positive</td>\n",
              "    </tr>\n",
              "  </tbody>\n",
              "</table>"
            ],
            "text/plain": [
              "<IPython.core.display.HTML object>"
            ]
          },
          "metadata": {
            "tags": []
          }
        }
      ]
    },
    {
      "cell_type": "markdown",
      "metadata": {
        "id": "5fY1TZv_5BeS",
        "colab_type": "text"
      },
      "source": [
        "And we can train a classifier that uses our previous encoder."
      ]
    },
    {
      "cell_type": "code",
      "metadata": {
        "id": "HObRIdSP5BeV",
        "colab_type": "code",
        "colab": {
          "base_uri": "https://localhost:8080/",
          "height": 233
        },
        "outputId": "127a556f-07a9-4271-8159-0bd94503c2c3"
      },
      "source": [
        "learn_cl = text_classifier_learner(data_clas, AWD_LSTM, drop_mult=0.5)\n",
        "learn_cl.load_encoder('mini_train_encoder')\n",
        "learn_cl.fit_one_cycle(6, slice(1e-3,1e-2))\n",
        "learn_cl.save('mini_train_clas')"
      ],
      "execution_count": 16,
      "outputs": [
        {
          "output_type": "display_data",
          "data": {
            "text/html": [
              "<table border=\"1\" class=\"dataframe\">\n",
              "  <thead>\n",
              "    <tr style=\"text-align: left;\">\n",
              "      <th>epoch</th>\n",
              "      <th>train_loss</th>\n",
              "      <th>valid_loss</th>\n",
              "      <th>accuracy</th>\n",
              "      <th>time</th>\n",
              "    </tr>\n",
              "  </thead>\n",
              "  <tbody>\n",
              "    <tr>\n",
              "      <td>0</td>\n",
              "      <td>0.644936</td>\n",
              "      <td>0.627262</td>\n",
              "      <td>0.595000</td>\n",
              "      <td>00:16</td>\n",
              "    </tr>\n",
              "    <tr>\n",
              "      <td>1</td>\n",
              "      <td>0.545071</td>\n",
              "      <td>0.538481</td>\n",
              "      <td>0.770000</td>\n",
              "      <td>00:17</td>\n",
              "    </tr>\n",
              "    <tr>\n",
              "      <td>2</td>\n",
              "      <td>0.506082</td>\n",
              "      <td>0.533946</td>\n",
              "      <td>0.725000</td>\n",
              "      <td>00:16</td>\n",
              "    </tr>\n",
              "    <tr>\n",
              "      <td>3</td>\n",
              "      <td>0.470617</td>\n",
              "      <td>0.484739</td>\n",
              "      <td>0.765000</td>\n",
              "      <td>00:15</td>\n",
              "    </tr>\n",
              "    <tr>\n",
              "      <td>4</td>\n",
              "      <td>0.443588</td>\n",
              "      <td>0.474292</td>\n",
              "      <td>0.760000</td>\n",
              "      <td>00:16</td>\n",
              "    </tr>\n",
              "    <tr>\n",
              "      <td>5</td>\n",
              "      <td>0.413393</td>\n",
              "      <td>0.475649</td>\n",
              "      <td>0.750000</td>\n",
              "      <td>00:16</td>\n",
              "    </tr>\n",
              "  </tbody>\n",
              "</table>"
            ],
            "text/plain": [
              "<IPython.core.display.HTML object>"
            ]
          },
          "metadata": {
            "tags": []
          }
        }
      ]
    },
    {
      "cell_type": "markdown",
      "metadata": {
        "id": "Vqr2vXSs5BeY",
        "colab_type": "text"
      },
      "source": [
        "**Momentum**  \n",
        "There is one more argument(moms=(0.8,0.7))﹣momentums equals 0.8,0.7. Basically for training recurrent neural networks (RNNs), it really helps to decrease the momentum a little bit.The right side above is the momentum plot. Every time our learning rate is small, our momentum is high. Why is that? Because as you are learning small learning rate, but you keep going in the same direction, you may as well go faster (higher momentum). But as you are learning high learning rate, but you keep going in the same direction, you may overshoot the target, so momentum should be slowed. This trick can help you train 10 times faster."
      ]
    },
    {
      "cell_type": "code",
      "metadata": {
        "id": "EAtl-UFK5BeY",
        "colab_type": "code",
        "colab": {
          "base_uri": "https://localhost:8080/",
          "height": 110
        },
        "outputId": "136b7f2d-881e-4669-e6b2-29553cbbdab2"
      },
      "source": [
        "learn_cl.fit_one_cycle(2, slice(1e-3,1e-2), moms=(0.8, 0.7))"
      ],
      "execution_count": 17,
      "outputs": [
        {
          "output_type": "display_data",
          "data": {
            "text/html": [
              "<table border=\"1\" class=\"dataframe\">\n",
              "  <thead>\n",
              "    <tr style=\"text-align: left;\">\n",
              "      <th>epoch</th>\n",
              "      <th>train_loss</th>\n",
              "      <th>valid_loss</th>\n",
              "      <th>accuracy</th>\n",
              "      <th>time</th>\n",
              "    </tr>\n",
              "  </thead>\n",
              "  <tbody>\n",
              "    <tr>\n",
              "      <td>0</td>\n",
              "      <td>0.385223</td>\n",
              "      <td>0.599715</td>\n",
              "      <td>0.725000</td>\n",
              "      <td>00:15</td>\n",
              "    </tr>\n",
              "    <tr>\n",
              "      <td>1</td>\n",
              "      <td>0.395529</td>\n",
              "      <td>0.494499</td>\n",
              "      <td>0.740000</td>\n",
              "      <td>00:16</td>\n",
              "    </tr>\n",
              "  </tbody>\n",
              "</table>"
            ],
            "text/plain": [
              "<IPython.core.display.HTML object>"
            ]
          },
          "metadata": {
            "tags": []
          }
        }
      ]
    },
    {
      "cell_type": "code",
      "metadata": {
        "id": "AssSMvYt5Beb",
        "colab_type": "code",
        "colab": {
          "base_uri": "https://localhost:8080/",
          "height": 279
        },
        "outputId": "587d165c-297c-4f19-bd44-2de2b27c7600"
      },
      "source": [
        "learn_cl.recorder.plot_losses()"
      ],
      "execution_count": 18,
      "outputs": [
        {
          "output_type": "display_data",
          "data": {
            "image/png": "[encoded data removed]",
            "text/plain": [
              "<Figure size 432x288 with 1 Axes>"
            ]
          },
          "metadata": {
            "tags": [],
            "needs_background": "light"
          }
        }
      ]
    },
    {
      "cell_type": "code",
      "metadata": {
        "id": "MfBhxG_U5Bef",
        "colab_type": "code",
        "colab": {
          "base_uri": "https://localhost:8080/",
          "height": 358
        },
        "outputId": "237adbfe-20b9-483f-b734-babda5b431b0"
      },
      "source": [
        "learn_cl.show_results()"
      ],
      "execution_count": 19,
      "outputs": [
        {
          "output_type": "display_data",
          "data": {
            "text/html": [
              "<table border=\"1\" class=\"dataframe\">\n",
              "  <thead>\n",
              "    <tr style=\"text-align: right;\">\n",
              "      <th>text</th>\n",
              "      <th>target</th>\n",
              "      <th>prediction</th>\n",
              "    </tr>\n",
              "  </thead>\n",
              "  <tbody>\n",
              "    <tr>\n",
              "      <td>xxbos \\n \\n  i 'm sure things did n't exactly go the same way in the real life of xxmaj homer xxmaj hickam as they did in the film adaptation of his book , xxmaj rocket xxmaj boys , but the movie \" xxmaj october xxmaj sky \" ( an xxunk of the book 's title ) is good enough to stand alone . i have not read xxmaj</td>\n",
              "      <td>positive</td>\n",
              "      <td>positive</td>\n",
              "    </tr>\n",
              "    <tr>\n",
              "      <td>xxbos xxmaj to review this movie , i without any doubt would have to xxunk that memorable scene in xxmaj tarantino 's \" xxmaj pulp xxmaj fiction \" ( xxunk ) when xxmaj jules and xxmaj vincent are talking about xxmaj mia xxmaj wallace and what she does for a living . xxmaj jules tells xxmaj vincent that the \" xxmaj only thing she did worthwhile was pilot \" .</td>\n",
              "      <td>negative</td>\n",
              "      <td>negative</td>\n",
              "    </tr>\n",
              "    <tr>\n",
              "      <td>xxbos xxmaj how viewers react to this new \" adaption \" of xxmaj shirley xxmaj jackson 's book , which was promoted as xxup not being a remake of the original 1963 movie ( true enough ) , will be based , i suspect , on the following : those who were big fans of either the book or original movie are not going to think much of this one</td>\n",
              "      <td>negative</td>\n",
              "      <td>negative</td>\n",
              "    </tr>\n",
              "    <tr>\n",
              "      <td>xxbos xxmaj the trouble with the book , \" xxmaj memoirs of a xxmaj geisha \" is that it had xxmaj japanese xxunk but underneath the xxunk it was all an xxmaj american man 's way of thinking . xxmaj reading the book is like watching a magnificent ballet with great music , sets , and costumes yet performed by xxunk animals dressed in those xxunk far from xxmaj japanese</td>\n",
              "      <td>negative</td>\n",
              "      <td>negative</td>\n",
              "    </tr>\n",
              "    <tr>\n",
              "      <td>xxbos xxmaj xxunk had a great cast of wonderful actors . xxmaj xxunk xxmaj xxunk , xxmaj xxunk xxmaj xxunk , xxmaj michael xxmaj xxunk , xxmaj dan xxmaj xxunk , and even xxmaj guy xxmaj williams ( as the cousin who was brought in for several episodes during 1964 to xxunk xxmaj xxunk when he was leaving the series ) . xxmaj the cast had chemistry , and they</td>\n",
              "      <td>positive</td>\n",
              "      <td>negative</td>\n",
              "    </tr>\n",
              "  </tbody>\n",
              "</table>"
            ],
            "text/plain": [
              "<IPython.core.display.HTML object>"
            ]
          },
          "metadata": {
            "tags": []
          }
        }
      ]
    },
    {
      "cell_type": "code",
      "metadata": {
        "id": "xEsxn3Dh5Bek",
        "colab_type": "code",
        "colab": {
          "base_uri": "https://localhost:8080/",
          "height": 311
        },
        "outputId": "d2dd4f58-af9a-4a8c-badb-d4fd9ae67638"
      },
      "source": [
        "preds, y, losses = learn_cl.get_preds(with_loss=True)\n",
        "interp = ClassificationInterpretation(learn_cl, preds, y, losses)\n",
        "interp.plot_confusion_matrix()"
      ],
      "execution_count": 20,
      "outputs": [
        {
          "output_type": "display_data",
          "data": {
            "text/html": [
              ""
            ],
            "text/plain": [
              "<IPython.core.display.HTML object>"
            ]
          },
          "metadata": {
            "tags": []
          }
        },
        {
          "output_type": "display_data",
          "data": {
            "image/png": "[encoded data removed]",
            "text/plain": [
              "<Figure size 432x288 with 1 Axes>"
            ]
          },
          "metadata": {
            "tags": [],
            "needs_background": "light"
          }
        }
      ]
    },
    {
      "cell_type": "markdown",
      "metadata": {
        "id": "KoK3ERry5Ben",
        "colab_type": "text"
      },
      "source": [
        "### Excercise\n",
        "Make sentiment predictions for 5 movie reviews from IMDB web site."
      ]
    },
    {
      "cell_type": "code",
      "metadata": {
        "id": "iyNQXe5E5Beo",
        "colab_type": "code",
        "colab": {
          "base_uri": "https://localhost:8080/",
          "height": 70
        },
        "outputId": "59fd387a-0616-44a9-f2bf-afd62b3c3dd3"
      },
      "source": [
        "# A rotten tomatos review for Christopher's Nolan movie Inception\n",
        "first_movie_review = learn.predict('This endlessly fascinating swirl ', 58)\n",
        "first_movie_review"
      ],
      "execution_count": 21,
      "outputs": [
        {
          "output_type": "execute_result",
          "data": {
            "application/vnd.google.colaboratory.intrinsic+json": {
              "type": "string"
            },
            "text/plain": [
              "\"This endlessly fascinating swirl  is a classic film in the genre , although ironically one of the greatest films ever made . But they 're still one of the greatest films ever made to say they had it . \\n \\n  It is this film that makes a unique film about a young man who struggles to want to live in\""
            ]
          },
          "metadata": {
            "tags": []
          },
          "execution_count": 21
        }
      ]
    },
    {
      "cell_type": "code",
      "metadata": {
        "id": "yKsdJTcBjKcI",
        "colab_type": "code",
        "colab": {
          "base_uri": "https://localhost:8080/",
          "height": 55
        },
        "outputId": "db778f42-218a-47f0-f952-2f1b22154bd9"
      },
      "source": [
        "real_first_movie_review = print('This endlessly fascinating swirl of a film could have come only from Nolan, who blends the cerebral twistiness of Memento (his thriller that moves backward in time) with the spectacular action of his Batman megahit, The Dark Knight')"
      ],
      "execution_count": 22,
      "outputs": [
        {
          "output_type": "stream",
          "text": [
            "This endlessly fascinating swirl of a film could have come only from Nolan, who blends the cerebral twistiness of Memento (his thriller that moves backward in time) with the spectacular action of his Batman megahit, The Dark Knight\n"
          ],
          "name": "stdout"
        }
      ]
    },
    {
      "cell_type": "code",
      "metadata": {
        "id": "r32YjZTvVTat",
        "colab_type": "code",
        "colab": {
          "base_uri": "https://localhost:8080/",
          "height": 35
        },
        "outputId": "55953d46-e355-4e87-8aed-763205bdd44f"
      },
      "source": [
        "first_movie_review_classifier = learn_cl.predict(first_movie_review)\n",
        "print(first_movie_review_classifier[2][0])"
      ],
      "execution_count": 23,
      "outputs": [
        {
          "output_type": "stream",
          "text": [
            "tensor(0.0261)\n"
          ],
          "name": "stdout"
        }
      ]
    },
    {
      "cell_type": "code",
      "metadata": {
        "id": "njzv_MatgO-d",
        "colab_type": "code",
        "colab": {
          "base_uri": "https://localhost:8080/",
          "height": 35
        },
        "outputId": "80336914-e575-4330-857b-ca7cd047b771"
      },
      "source": [
        "# A quote from The Usual Suspects \n",
        "# should have 14 words\n",
        "second_movie_quote= learn.predict('The greatest trick the Devil ever pulled', 9)\n",
        "second_movie_quote"
      ],
      "execution_count": 24,
      "outputs": [
        {
          "output_type": "execute_result",
          "data": {
            "application/vnd.google.colaboratory.intrinsic+json": {
              "type": "string"
            },
            "text/plain": [
              "'The greatest trick the Devil ever pulled came in 2001 once Ms. Greenstreet did'"
            ]
          },
          "metadata": {
            "tags": []
          },
          "execution_count": 24
        }
      ]
    },
    {
      "cell_type": "code",
      "metadata": {
        "id": "uT2nPOXnoGAC",
        "colab_type": "code",
        "colab": {
          "base_uri": "https://localhost:8080/",
          "height": 35
        },
        "outputId": "9572b517-3f7a-42c6-832f-3505b34b6ea2"
      },
      "source": [
        "real_second_quote = print(\"The greatest trick the Devil ever pulled was convincing the world he didn't exist\")"
      ],
      "execution_count": 25,
      "outputs": [
        {
          "output_type": "stream",
          "text": [
            "The greatest trick the Devil ever pulled was convincing the world he didn't exist\n"
          ],
          "name": "stdout"
        }
      ]
    },
    {
      "cell_type": "code",
      "metadata": {
        "id": "DTu-krduVMey",
        "colab_type": "code",
        "colab": {
          "base_uri": "https://localhost:8080/",
          "height": 35
        },
        "outputId": "55051dcf-d785-4a55-c0a1-df3af606bd7c"
      },
      "source": [
        "second_movie_review_classifier = learn_cl.predict(second_movie_quote)\n",
        "print(second_movie_review_classifier[2][0])"
      ],
      "execution_count": 26,
      "outputs": [
        {
          "output_type": "stream",
          "text": [
            "tensor(0.1274)\n"
          ],
          "name": "stdout"
        }
      ]
    },
    {
      "cell_type": "code",
      "metadata": {
        "id": "Z9bQNzAWhIdK",
        "colab_type": "code",
        "colab": {
          "base_uri": "https://localhost:8080/",
          "height": 35
        },
        "outputId": "d95e6a52-5291-4772-9f1f-2845366146a8"
      },
      "source": [
        "# A quote from V for Vendetta\n",
        "# should have 24 words \n",
        "third_movie_quote = learn.predict('Remember, remember, the fifth,',20)\n",
        "third_movie_quote"
      ],
      "execution_count": 27,
      "outputs": [
        {
          "output_type": "execute_result",
          "data": {
            "application/vnd.google.colaboratory.intrinsic+json": {
              "type": "string"
            },
            "text/plain": [
              "'Remember, remember, the fifth, i was who crying -- with a different accent PAT than in **** !!!! You know'"
            ]
          },
          "metadata": {
            "tags": []
          },
          "execution_count": 27
        }
      ]
    },
    {
      "cell_type": "code",
      "metadata": {
        "id": "5EtA3QrOimrI",
        "colab_type": "code",
        "colab": {
          "base_uri": "https://localhost:8080/",
          "height": 35
        },
        "outputId": "fd8461d9-0971-4051-ba9b-e0889e344aad"
      },
      "source": [
        "real_third_movie_review = print('\"Remember, remember, the Fifth of November, the Gunpowder Treason and Plot. I know of no reason why the Gunpowder Treason should ever be forgot...\"')"
      ],
      "execution_count": 28,
      "outputs": [
        {
          "output_type": "stream",
          "text": [
            "\"Remember, remember, the Fifth of November, the Gunpowder Treason and Plot. I know of no reason why the Gunpowder Treason should ever be forgot...\"\n"
          ],
          "name": "stdout"
        }
      ]
    },
    {
      "cell_type": "code",
      "metadata": {
        "id": "BY0cEg1cUvaK",
        "colab_type": "code",
        "colab": {
          "base_uri": "https://localhost:8080/",
          "height": 35
        },
        "outputId": "edaa33fd-4149-426d-978b-eb9786d344f8"
      },
      "source": [
        "third_movie_review_classifier = learn_cl.predict(third_movie_quote)\n",
        "print(third_movie_review_classifier[2][0])"
      ],
      "execution_count": 29,
      "outputs": [
        {
          "output_type": "stream",
          "text": [
            "tensor(0.3985)\n"
          ],
          "name": "stdout"
        }
      ]
    },
    {
      "cell_type": "code",
      "metadata": {
        "id": "sQhLO_WDpTCd",
        "colab_type": "code",
        "colab": {
          "base_uri": "https://localhost:8080/",
          "height": 35
        },
        "outputId": "da117892-112c-40b6-c541-49b6f27c4442"
      },
      "source": [
        "fourth_movie_review = learn.predict('Nolan masterfully weaves', 28)\n",
        "fourth_movie_review\n"
      ],
      "execution_count": 30,
      "outputs": [
        {
          "output_type": "execute_result",
          "data": {
            "application/vnd.google.colaboratory.intrinsic+json": {
              "type": "string"
            },
            "text/plain": [
              "'Nolan masterfully weaves the serious intent of Hitchcock , including the Book , the \" Cause Horror \" movie . There are notes , including the'"
            ]
          },
          "metadata": {
            "tags": []
          },
          "execution_count": 30
        }
      ]
    },
    {
      "cell_type": "code",
      "metadata": {
        "id": "TTKk80roTaq5",
        "colab_type": "code",
        "colab": {
          "base_uri": "https://localhost:8080/",
          "height": 35
        },
        "outputId": "64ad1cc2-f742-4c04-ed66-5cafbc5f5a83"
      },
      "source": [
        "fourth_movie_review_classifier = learn_cl.predict(fourth_movie_review)\n",
        "print(fourth_movie_review_classifier[2][0])"
      ],
      "execution_count": 31,
      "outputs": [
        {
          "output_type": "stream",
          "text": [
            "tensor(0.1184)\n"
          ],
          "name": "stdout"
        }
      ]
    },
    {
      "cell_type": "code",
      "metadata": {
        "id": "oT98BNADq6nP",
        "colab_type": "code",
        "colab": {
          "base_uri": "https://localhost:8080/",
          "height": 55
        },
        "outputId": "03346962-3a05-46df-8cb3-7dd6f14a2af2"
      },
      "source": [
        "real_fourth_review = print('Nolan masterfully weaves all these elements together, creating a second act that is breathtaking, suspenseful and thought-provoking...unfortunately, it takes us a good hour for us to get there.')"
      ],
      "execution_count": 32,
      "outputs": [
        {
          "output_type": "stream",
          "text": [
            "Nolan masterfully weaves all these elements together, creating a second act that is breathtaking, suspenseful and thought-provoking...unfortunately, it takes us a good hour for us to get there.\n"
          ],
          "name": "stdout"
        }
      ]
    },
    {
      "cell_type": "code",
      "metadata": {
        "id": "Fc3_pEK5rCIK",
        "colab_type": "code",
        "colab": {
          "base_uri": "https://localhost:8080/",
          "height": 35
        },
        "outputId": "d0b09b26-0916-4b0d-f2a4-c794675fd5e5"
      },
      "source": [
        "fifth_movie_review = learn.predict('Infused with',27)\n",
        "fifth_movie_review\n"
      ],
      "execution_count": 33,
      "outputs": [
        {
          "output_type": "execute_result",
          "data": {
            "application/vnd.google.colaboratory.intrinsic+json": {
              "type": "string"
            },
            "text/plain": [
              "'Infused with only 50 % achievement in houses , Gun City has a low impact / scale Thus far , land quality fine with many terrain'"
            ]
          },
          "metadata": {
            "tags": []
          },
          "execution_count": 33
        }
      ]
    },
    {
      "cell_type": "code",
      "metadata": {
        "id": "p41f_h4frrTR",
        "colab_type": "code",
        "colab": {
          "base_uri": "https://localhost:8080/",
          "height": 35
        },
        "outputId": "d89b5772-d862-47a8-9854-d3bffc58aa66"
      },
      "source": [
        "real_fifth_movie_review = print('Infused with his trademark wit, the film is hilarious at times but also carries with it more complex undertones. Benjamin is a gorgeous little film.')"
      ],
      "execution_count": 34,
      "outputs": [
        {
          "output_type": "stream",
          "text": [
            "Infused with his trademark wit, the film is hilarious at times but also carries with it more complex undertones. Benjamin is a gorgeous little film.\n"
          ],
          "name": "stdout"
        }
      ]
    },
    {
      "cell_type": "code",
      "metadata": {
        "id": "Dq_845hvr22l",
        "colab_type": "code",
        "colab": {
          "base_uri": "https://localhost:8080/",
          "height": 35
        },
        "outputId": "02fdbed8-56df-4744-8292-0473f90b920d"
      },
      "source": [
        "fifth_movie_review_classifier = learn_cl.predict(fifth_movie_review)\n",
        "print(fifth_movie_review_classifier[2][0])"
      ],
      "execution_count": 35,
      "outputs": [
        {
          "output_type": "stream",
          "text": [
            "tensor(0.8065)\n"
          ],
          "name": "stdout"
        }
      ]
    },
    {
      "cell_type": "markdown",
      "metadata": {
        "id": "69vXoHCNS74R",
        "colab_type": "text"
      },
      "source": [
        ""
      ]
    },
    {
      "cell_type": "code",
      "metadata": {
        "id": "WGCWlqPghOSH",
        "colab_type": "code",
        "colab": {
          "base_uri": "https://localhost:8080/",
          "height": 35
        },
        "outputId": "98cb27b1-12a2-4962-eb9b-29dc05adad82"
      },
      "source": [
        "learn_cl.data.classes"
      ],
      "execution_count": 42,
      "outputs": [
        {
          "output_type": "execute_result",
          "data": {
            "text/plain": [
              "['negative', 'positive']"
            ]
          },
          "metadata": {
            "tags": []
          },
          "execution_count": 42
        }
      ]
    },
    {
      "cell_type": "code",
      "metadata": {
        "id": "Mo72uV5n8JtL",
        "colab_type": "code",
        "colab": {}
      },
      "source": [
        ""
      ],
      "execution_count": null,
      "outputs": []
    },
    {
      "cell_type": "code",
      "metadata": {
        "id": "UUrhczioUjE1",
        "colab_type": "code",
        "colab": {}
      },
      "source": [
        "first = (\"\"\"What is the most resilient parasite? An Idea! Yes, Nolan has created something with his unbelievably, incredibly and god- gifted mind which will blow the minds of the audience away. The world premiere of the movie, directed by Hollywood's most inventive dreamers, was shown in London and has already got top notch reviews worldwide and has scored maximum points! Now the question arises what the movie has that it deserve all this?\n",
        "\n",
        "Dom Cobb(Di Caprio) is an extractor who is paid to invade the dreams of various business tycoons and steal their top secret ideas. Cobb robs forcefully the psyche with practiced skill, though he's increasingly haunted by the memory of his late wife, Mal (Marion Cotillard), who has a nasty habit of showing up in his subconscious and wreaking havoc on his missions. Cobb had been involved so much in his heist work that he had lost his love!\n",
        "\n",
        "But then, as fate had decided, a wealthy business man Saito( Ken Watanabe) hands over the responsibility of dissolving the empire of his business rival Robert Fischer Jr.(Cillian Murphy). But this time his job was not to steal the idea but to plant a new one: 'Inception'\n",
        "\n",
        "Then what happens is the classic heist movie tradition. To carry out the the task, Cobb's 'brainiac' specialists team up again with him, Arthur (Joseph Gordon-Levitt), his longtime organizer; Tom Hardy (Eames), a \"forger\" who can shapeshift at will; and Yusuf (Dileep Rao), a powerful sedative supplier.\n",
        "\n",
        "There is only one word to describe the cinematography, the set designs and the special effects, and that is Exceptional! You don't just watch the scenes happening, you feel them. The movie is a real thrill ride. The action scenes are well picturised and the music by Hans Zimmer is electronically haunting. Never, in the runtime of the movie, you will get a chance to move your eyes from the screen to any other object.\n",
        "\n",
        "Leonardo, who is still popularly known for Jack Dawson played by him in Titanic, should be relieved as his role as Dom Cobb will be remembered forever. His performance may or may not fetch him an Oscar but it will be his finest performance till date. The supporting cast too did an extraordinary work. Christopher Nolan, ah! what a man he is. His work is nothing less than a masterpiece and he deserves all the awards in the 'Best Director' category. If \"Inception\" is a metaphysical puzzle, it's also a metaphorical one: It's hard not to draw connections between Cobb's dream-weaving and Nolan's film making, intended to seduce us, mess with our heads and leave an ever-lasting impression.\n",
        "\n",
        "To conclude, I would just say before your life ends, do yourself a favor by experiencing this exceptionally lucid classic created by Nolan!\"\"\")\n",
        "first_review =('possitive','10')\n"
      ],
      "execution_count": 38,
      "outputs": []
    },
    {
      "cell_type": "code",
      "metadata": {
        "id": "PlSotqNL8MH-",
        "colab_type": "code",
        "colab": {
          "base_uri": "https://localhost:8080/",
          "height": 35
        },
        "outputId": "77ec00d0-2b8d-4fd5-bd24-2b8d8a194912"
      },
      "source": [
        "print(learn_cl.predict(first)[2][0])"
      ],
      "execution_count": 40,
      "outputs": [
        {
          "output_type": "stream",
          "text": [
            "tensor(0.0876)\n"
          ],
          "name": "stdout"
        }
      ]
    },
    {
      "cell_type": "code",
      "metadata": {
        "id": "IDkCkWfS-p3f",
        "colab_type": "code",
        "colab": {
          "base_uri": "https://localhost:8080/",
          "height": 35
        },
        "outputId": "1493c144-f020-4811-c516-12efb39847d9"
      },
      "source": [
        "if (learn_cl.predict(first)[2][0])<0.5:\n",
        "  print(\"Rating je pozitivan\")\n",
        "else:\n",
        "  print(\"rating je negativan\")"
      ],
      "execution_count": 43,
      "outputs": [
        {
          "output_type": "stream",
          "text": [
            "Rating je pozitivan\n"
          ],
          "name": "stdout"
        }
      ]
    },
    {
      "cell_type": "code",
      "metadata": {
        "id": "-lQ0RNVN8wLP",
        "colab_type": "code",
        "colab": {}
      },
      "source": [
        "second = (\"\"\"I will try not to repeat some of what others have so brilliantly written in some reviews. I just add this in order to contradict the hype that has allowed this movie to be ranked so high in IMDb. The same has been happening with other movies, and that is a shame for IMDb, which is becoming unreliable.\n",
        "\n",
        "I want to stress the fact that the only complexity in this movie is trying to figure out how you can invest so much money in a script that continuously makes a fool of the average critic intelligent viewer! The story is not complex. It is deliberately confusing in order to conceal its stupidity. Nothing that really matters is explained in the movie.\n",
        "\n",
        "And there's so many embarrassing clichés (the recruiting of the team, the episode in Mombassa, the assault of the ice fortress, many of the action sequences)... the average viewer must be disappointed!\n",
        "\n",
        "And the dreams - which serve as the scenario to most of the movie - are populated by the utmost lack of imagination.\n",
        "\n",
        "Finally, there's the score, louder and louder, building a suspense that is never there, for everything is a dream, and we do not quite catch what there is exactly that can go wrong...\n",
        "\n",
        "Well, all in all, the movie is an insult to the average intelligent viewer and, having been directed by Christopher Nolan, an ultimate disappointment.\"\"\")\n",
        "second_review = ('negative', '2')"
      ],
      "execution_count": 46,
      "outputs": []
    },
    {
      "cell_type": "code",
      "metadata": {
        "id": "K-yggp_3_7wv",
        "colab_type": "code",
        "colab": {
          "base_uri": "https://localhost:8080/",
          "height": 35
        },
        "outputId": "f8f95b74-c2a8-46ff-bba5-6e17bed971d7"
      },
      "source": [
        "if (learn_cl.predict(second)[2][0])<0.5:\n",
        "  print(\"Rating je pozitivan\")\n",
        "else:\n",
        "  print(\"rating je negativan\")"
      ],
      "execution_count": 47,
      "outputs": [
        {
          "output_type": "stream",
          "text": [
            "rating je negativan\n"
          ],
          "name": "stdout"
        }
      ]
    },
    {
      "cell_type": "code",
      "metadata": {
        "id": "9Ioq6alqADV-",
        "colab_type": "code",
        "colab": {}
      },
      "source": [
        "third = (\"\"\"I have to say to make such an impressive trailer and such an uninteresting film, takes some doing.\n",
        "\n",
        "Here you have most of the elements that would make a very good film. You have great special effects, a sci-fi conundrum, beautiful visuals and good sound. Yet the most important part of the film is missing. There is no plot, character or soul to this film. It's like having a beautiful building on the outside with no paint or decoration on the inside.\n",
        "\n",
        "It's an empty shell of a film. There is no tension; you couldn't care less about any of the characters, why were they even motivated to do what they did. Helping a corporation get \"one over\" on another corporation is hardly saving the human race.\n",
        "\n",
        "When you operate in a dream environment, where you can't die or be injured really it means there is nothing to worry about, who cares what happens. All the explosions and actions sequences are just meaningless. By the way, why does Hollywood still keep filming action scene's an inch away from every characters nose? It's impossible to see what's going on, so many films are ruined by this. Watch and learn from the Matrix, take the camera backwards a couple of feet and we can actually work out what's going on.\n",
        "\n",
        "So 2 and half hours of looking at my watch waiting for the very predictable ending, is a million miles from being a good film. How anyone in their right mind can give this 10/10, it's boring and pointless. A film has stir the soul, has to grab you, you need to feel for the characters. Can anyone, honestly say, they cared about anyone on show here.\n",
        "\n",
        "By the way, here's an idea, why don't you bring the children (who haven't aged a minutes since you last saw them) to you, if you can't go to the US.\n",
        "\n",
        "I know the end scene was trying to be ambiguous, but the fact his father, who lives in Paris, is bizarrely there in the US to meet him (how did he know) and the children look identical to every dream sequence they appeared in, means there wasn't much doubt.\n",
        "\n",
        "In the end there is nothing at stake for anyone, so a pointless movie. I suspect Nolan will continue to get praise, but I can't really say I've got excited about any of his movies. They all leave me cold. They are not terrible, just there's nothing really there, no substance.\"\"\"\n",
        ")\n",
        "third_review = ('Negative', '1')"
      ],
      "execution_count": 49,
      "outputs": []
    },
    {
      "cell_type": "code",
      "metadata": {
        "id": "5ugEy_NiAWs3",
        "colab_type": "code",
        "colab": {
          "base_uri": "https://localhost:8080/",
          "height": 35
        },
        "outputId": "ced636a5-68e6-4bd0-8904-6f45cafb1af1"
      },
      "source": [
        "if (learn_cl.predict(third)[2][0])<0.5:\n",
        "  print(\"Rating je pozitivan\")\n",
        "else:\n",
        "  print(\"rating je negativan\")"
      ],
      "execution_count": 50,
      "outputs": [
        {
          "output_type": "stream",
          "text": [
            "rating je negativan\n"
          ],
          "name": "stdout"
        }
      ]
    },
    {
      "cell_type": "code",
      "metadata": {
        "id": "gYOoCKamAkXJ",
        "colab_type": "code",
        "colab": {}
      },
      "source": [
        "fourth = (\"\"\"Have you ever felt like waking up from a dream to see its continuation? This idea disturbs Christopher Nolan ever since he was 16. Already in the future, as he developed this idea in his head, he was visited by another captivating feeling. And what if it were possible to study and manage the place of sleep? Now the British cinematographer is 39 years old, and the world has finally come to the opportunity to get to know what Nolan was so stunning, fast and loud all these years. \"The Beginning\" is a sci-fi thriller about the architecture of the mind. If for some reason this has not yet become a reason for the strongest intrigue, it is never too late to recreate it.\n",
        "\n",
        "Philosophy of Nolan. It is simple and at the same time terrifyingly exceptional. Making your environment think like you. To share all the events happening together. Experiencing the same difficulties. Strive to hold together for the hands to achieve the impossible. Making unusual things happen in the usual way. The topic can be continued, and its brief description will remain unchanged. Any person with whom you work, whether an actor or someone else, will always be completely imbued with the material that you yourself wrote, if this material is perceived by every person at the deepest personal level.\n",
        "\n",
        "Fans of the series \"LOST\" could have done the same thing with \"Star\" as they did with every series of the popular, now in the old days, series. Probably, for a reason, at the end of the day, a percentage of people will be drawn, what from wild ecstasy after watching will obviously lose consciousness in the most positive sense? The name of the film company Nolan \"Syncopy\" from the ancient Greek era means the medical term of fainting, loss of consciousness. I'm not talking about plot similarities with the term. And the logo of his film company, whose foundation happened in the year 99, has absolutely identical design as the \"Start\" screensaver. In the picture, the characters Paige and DiCaprio get acquainted in the same place where Nolan once met his future wife and constant working partner. And this is not all \"Easter eggs\". From the skyscrapers of Tokyo to the snowy peaks of Calgary, from the exoticism of the Moroccan Tangier to the picturesque streets of Paris, from historic London to modern-day Los Angeles. The scale that Nolan saw from the emotional journey of his painting could not fit in a modest framework, so the shooting process affected 4 continents and 6 so different countries.\n",
        "\n",
        "To make the dreams look as real as possible, the director once again followed his eternal principle and tried to maximally abandon computer graphics. Whether it's a revolving corridor 30 meters long built in Cardington, or the busiest street in Paris, mass explosions are caused by nothing else than nitrogen under high pressure. Impressive buildings in the Canadian Calgary provided work for thousands of local residents for six months. Their efforts could not justify themselves fully due to the fact that on approaching the crew to the place of direct filming, for a long time there was not much needed snow. He \"fell out\", creating for the creators is another problem due to the fact that did not stop a very long period. Arriving in early August in Morocco, a big unexpected success for the creators was the acquaintance with the local team, with whose help Hollywood partially took off more than one blockbuster in the territory of this African country. And the street traffic of Los Angeles was cleaned by the railroad train, behind the wheel of which was everyone's favorite Jim Wilkie. The same guy who ran an eighteen wheeled wagon in the \"Dark Knight\". This is only a small part of what the \"Beginning\" shakes.\n",
        "\n",
        "DiCaprio amazes us with one of the most difficult characters of recent times, which is largely due to the care and personal affection that Leo showed to Cobb. Together with Marion Cotillard, they create a screen couple capable of enveloping the soul of any viewer. I've never seen anything like it and close. The talented Hollywood youth in the faces of Page and Gordon-Levitt demonstrate a full understanding of the color range and levels of brightness of the characters assigned to them. Tom Hardy, performing the imitator, brought to the picture a significant share of charisma. And Killian Murphy finally embodied an image that has long been very curious to him. In May 2009, Nolan offered him absolutely any role, and he chose the \"Client\". And Ken Watanabe ... As in the case with the other images, we all will long try to disassemble this character, which is a very important and charismatic question for us. Each of his actors, Nolan asked not to tell anything about the plot, even to their families.\n",
        "\n",
        "Quite symbolic is the fact of the presence in the film of the song of Edith Piaf. After all, for the image of Edith Piaf in the film \"Life in pink\" in 2007, Marion Cotillard received a statuette of Oscar for Best Actress. Hans Zimmer paid close attention to the creation of the track, not so much to the stunning visual component of the picture, but to the emotional world of the main characters. It's always evident when Hans is captured by the storyline of the picture for which he is going to work, and \"Beginning\" is no exception. Filling the rich sensory undercurrent on the screen with a wonderful musical series, Hans did not leave behind his own imagination, allowing himself to go beyond the usual framework in the hope of looking where they would lead him. From here came the guitar, played on which none other than Johnny Marr of the band \"The Smiths\". For any of us, there is a difference in choice, when deciding whether it is worth chasing us for a happy moment or total happiness as such? Also here. Despite the speed with which you develop on the screen a completely different action - you want to keep up with it. Our feelings are awakened in the most active ways because of the resource that causes in us a similar instinct to comprehension and further awareness. This tape is a symbol of the whole structure of our everyday perception of what surrounds us in the material and immaterial world. A symbol that is itself the architect of a bridge connecting two opposite sides.\n",
        "\n",
        "Incredible and colossal, difficult-procedural result of the most outstanding artistic production in all spheres of film production. A movie that will never leave your mind, demanding from you its regular revision. The movie, which you will discover with each new show for yourself in a new way. A mad, multi-level, impressive plot production, attached to the deepest actor images. Infinitely rich semantic context and visual component. All this is a combination of the greatest cinematic experience that Nolan dragged through all these years. He would never have become a director of N1 in the modern world if he were not true, loving his family by a man. And this is the most important thing. That - with what all \"Begins\" ...\n",
        "\n",
        "A rare dream that survived so many years ...\n",
        "\n",
        "Film of the Decade.\"\"\")\n",
        "fourth_review =('Positive' , '10')"
      ],
      "execution_count": 51,
      "outputs": []
    },
    {
      "cell_type": "code",
      "metadata": {
        "id": "sD-lR8mOA3Be",
        "colab_type": "code",
        "colab": {
          "base_uri": "https://localhost:8080/",
          "height": 35
        },
        "outputId": "cb20dac8-1cd2-471d-dd1d-16d0bb3cd6e3"
      },
      "source": [
        "if (learn_cl.predict(fourth)[2][0])<0.5:\n",
        "  print(\"Rating je pozitivan\")\n",
        "else:\n",
        "  print(\"rating je negativan\")"
      ],
      "execution_count": 52,
      "outputs": [
        {
          "output_type": "stream",
          "text": [
            "Rating je pozitivan\n"
          ],
          "name": "stdout"
        }
      ]
    },
    {
      "cell_type": "code",
      "metadata": {
        "id": "bR9ceO-BBD-0",
        "colab_type": "code",
        "colab": {}
      },
      "source": [
        "fifth = (\"\"\"Inception is one of those movies that \"engaged\" film-goers will mistake for genius. Let me explain my theory on people and movies. There are three types of movie-watchers: passive, engaged, and intelligently engaged. Passive people will watch Die Another Day and like it just as much as the Bourne Identity. They don't go to the movies to think, they go to be entertained by cool effects and witty one-liners. Engaged people think they know what they're talking about, and generally love movies that are edgy in plot and execution but conventional enough to understand, like Fight Club and the subject of this review. They believe themselves to be refined in cinema, but, in reality, just don't quite have the intellect, cinematically speaking, to pull it off. Intelligently engaged people will appreciate the complexity of Inception, but also recognize it's a little sloppy, self-serious, over drawn, and empty. They recognize its audacity, but don't pretend like it is Kubrick or Paul Thomas Anderson. Suffice it to say, most people who fall into the engaged category will try and pretend that Inception is a 'masterpiece' and that they know everything about movies. They don't. Inception is clever, but it doesn't rank anything above respectable.\n",
        "\n",
        "The premise is ingenious, and Inception is able to live off its sheer mind-bendiness for the first 45 minutes. Leo is a specialist at entering people's minds through their dreams and extracting, or in this case, planting information. The dream world Nolan creates is so exciting and unpredictable that the audience, me included, couldn't care less about the actual story line. Unfortunately, when the magic wears off and the extravagantly overlong climax starts (almost at the midway point), things fall apart.\n",
        "\n",
        "The first problem is the eventual goal of the whole operation is seriously anti-climactic. As far as I could tell, they're trying to break up some obscure monopolistic multi-national company for a rich CEO, who in turn will give them large sums of money and Leo a way back to his kids. Sound under-developed? It is. Nolan never really fleshes it out. He is too busy creating spectacularly slick effects to get caught up in silly things like crucial plot points.\n",
        "\n",
        "When Inception hits its final profligate culmination (the climax inside the climax), I couldn't help but notice how empty it all was. Nolan makes the mistake of thinking multiple things happening at once equals suspense. In an effort to ratchet up the intensity, Nolan piles on at least 5 simultaneous plot-lines that climax at the same time. All this serves to do is suffocate the little suspense that had been built up. There is literally a fifteen minute stretch where Hans Zimmer's deafening score blares and Nolan annoyingly flips through the parallel actions like an ADD-afflicted friend who can't decide what channel to watch. It's mind- numbing, not to mention confusing as hell. One of these little subplots is particularly ridiculous and consists of a guy running around a snowbound bunker shooting people for the whole 15 minutes. Cutting-edge techno thriller? At this point, I was thinking more along the lines of a Roger Moore Bond flick.\n",
        "\n",
        "For all its structural faults, the single most damning aspect of Inception is its complete lack of heart or emotion. The one remotely human thread in the film deals with Leo and his mysterious dead wife. This thread is drawn out to excess and becomes more and more incomprehensible as the movie progresses. Inception seems to delight in keeping the audience in the dark regarding if Leo's wife is real or just a projection of his subconscious. Inception thinks it's awfully clever, but it's hard to feel emotion towards characters that you're not even sure exist. Near the end, I found the dialog between the unhappy couple completely devoid of meaning, made worse by Nolan attempting to give it resonance through close ups of people crying and a climaxing score.\n",
        "\n",
        "Despite the fact that the majority of this review deals with Inception's shortcomings, I actually like the movie as a whole. For all of its faults, I was grudgingly won over through Inception's pure style and visceral power. Nolan occasionally strikes brilliance, especially in an early scene where a dream explodes around Ellen and Leo in slow-motion virtuosity. This movie is not the genius many will claim, but it's not so bad either. Give it a shot, just don't expect to dream about it afterwards.\"\"\")\n",
        "fifth_movie_review = ('Postitive|Negative', '6')"
      ],
      "execution_count": 55,
      "outputs": []
    },
    {
      "cell_type": "code",
      "metadata": {
        "id": "TIoSsB9BBMi5",
        "colab_type": "code",
        "colab": {
          "base_uri": "https://localhost:8080/",
          "height": 35
        },
        "outputId": "1a0b5dbf-0e7f-43d0-b06b-6bc23f47e59b"
      },
      "source": [
        "if (learn_cl.predict(fifth)[2][0])<0.5:\n",
        "  print(\"Rating je pozitivan\")\n",
        "else:\n",
        "  print(\"rating je negativan\")"
      ],
      "execution_count": 56,
      "outputs": [
        {
          "output_type": "stream",
          "text": [
            "rating je negativan\n"
          ],
          "name": "stdout"
        }
      ]
    },
    {
      "cell_type": "code",
      "metadata": {
        "id": "Slfiyw4lBfPY",
        "colab_type": "code",
        "colab": {}
      },
      "source": [
        ""
      ],
      "execution_count": null,
      "outputs": []
    }
  ]
}